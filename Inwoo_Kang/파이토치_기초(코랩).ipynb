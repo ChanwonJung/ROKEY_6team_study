{
  "cells": [
    {
      "cell_type": "code",
      "execution_count": 1,
      "metadata": {
        "id": "PiA1qx0gSW9M"
      },
      "outputs": [],
      "source": [
        "import torch"
      ]
    },
    {
      "cell_type": "markdown",
      "metadata": {
        "id": "EtGeGBSbG261"
      },
      "source": [
        "torch.__version__"
      ]
    },
    {
      "cell_type": "code",
      "execution_count": 2,
      "metadata": {
        "colab": {
          "base_uri": "https://localhost:8080/"
        },
        "id": "jKoh3uwBOU-w",
        "outputId": "92b40df1-c5a8-4b8c-b572-e30730a48cd6"
      },
      "outputs": [
        {
          "data": {
            "text/plain": [
              "True"
            ]
          },
          "execution_count": 2,
          "metadata": {},
          "output_type": "execute_result"
        }
      ],
      "source": [
        "torch.cuda.is_available()"
      ]
    },
    {
      "cell_type": "code",
      "execution_count": 6,
      "metadata": {
        "colab": {
          "base_uri": "https://localhost:8080/",
          "height": 35
        },
        "id": "lAXZqcolUtpG",
        "outputId": "eaceab2d-f2de-4fc5-9337-3da24976ab91"
      },
      "outputs": [
        {
          "data": {
            "application/vnd.google.colaboratory.intrinsic+json": {
              "type": "string"
            },
            "text/plain": [
              "'cuda'"
            ]
          },
          "execution_count": 6,
          "metadata": {},
          "output_type": "execute_result"
        }
      ],
      "source": [
        "# gpu사용 여부\n",
        "device = 'cuda' if torch.cuda.is_available() else 'cpu'\n",
        "device"
      ]
    },
    {
      "cell_type": "code",
      "execution_count": null,
      "metadata": {
        "colab": {
          "base_uri": "https://localhost:8080/",
          "height": 35
        },
        "id": "zWDfEwDyU56i",
        "outputId": "f17c7cf8-bccb-432b-afa8-a46473046605"
      },
      "outputs": [
        {
          "data": {
            "application/vnd.google.colaboratory.intrinsic+json": {
              "type": "string"
            },
            "text/plain": [
              "'cuda'"
            ]
          },
          "execution_count": 10,
          "metadata": {},
          "output_type": "execute_result"
        }
      ],
      "source": [
        "# gpu사용 여부 - 런타임 변경 후\n",
        "import torch\n",
        "device = 'cuda' if torch.cuda.is_available() else 'cpu'\n",
        "device"
      ]
    },
    {
      "cell_type": "code",
      "execution_count": 3,
      "metadata": {
        "colab": {
          "base_uri": "https://localhost:8080/"
        },
        "id": "KU18FQVn4P-Z",
        "outputId": "d63792be-a9b4-4e00-9a21-4f081f8cab34"
      },
      "outputs": [
        {
          "name": "stdout",
          "output_type": "stream",
          "text": [
            "Thu Feb 13 12:13:05 2025       \n",
            "+-----------------------------------------------------------------------------------------+\n",
            "| NVIDIA-SMI 550.54.15              Driver Version: 550.54.15      CUDA Version: 12.4     |\n",
            "|-----------------------------------------+------------------------+----------------------+\n",
            "| GPU  Name                 Persistence-M | Bus-Id          Disp.A | Volatile Uncorr. ECC |\n",
            "| Fan  Temp   Perf          Pwr:Usage/Cap |           Memory-Usage | GPU-Util  Compute M. |\n",
            "|                                         |                        |               MIG M. |\n",
            "|=========================================+========================+======================|\n",
            "|   0  Tesla T4                       Off |   00000000:00:04.0 Off |                    0 |\n",
            "| N/A   58C    P8             10W /   70W |       2MiB /  15360MiB |      0%      Default |\n",
            "|                                         |                        |                  N/A |\n",
            "+-----------------------------------------+------------------------+----------------------+\n",
            "                                                                                         \n",
            "+-----------------------------------------------------------------------------------------+\n",
            "| Processes:                                                                              |\n",
            "|  GPU   GI   CI        PID   Type   Process name                              GPU Memory |\n",
            "|        ID   ID                                                               Usage      |\n",
            "|=========================================================================================|\n",
            "|  No running processes found                                                             |\n",
            "+-----------------------------------------------------------------------------------------+\n"
          ]
        }
      ],
      "source": [
        "# NVIDIA 드라이버\n",
        "!nvidia-smi"
      ]
    },
    {
      "cell_type": "markdown",
      "metadata": {
        "id": "XdsVx-yzuSzV"
      },
      "source": [
        "**텐서**"
      ]
    },
    {
      "cell_type": "code",
      "execution_count": null,
      "metadata": {
        "colab": {
          "base_uri": "https://localhost:8080/"
        },
        "id": "-_VNdr_9U62O",
        "outputId": "ff4b1f32-26e4-495f-ffea-5cb3af3d72ae"
      },
      "outputs": [
        {
          "name": "stdout",
          "output_type": "stream",
          "text": [
            "tensor([1, 2, 3], dtype=torch.int32)\n",
            "<class 'torch.Tensor'>\n",
            "torch.int32\n",
            "torch.Size([3])\n"
          ]
        }
      ],
      "source": [
        "import torch\n",
        "\n",
        "# 텐서 생성\n",
        "t1 = torch.tensor([1,2,3]).int()\n",
        "print(t1)\n",
        "print(type(t1),t1.dtype, t1.shape, sep='\\n')"
      ]
    },
    {
      "cell_type": "code",
      "execution_count": 4,
      "metadata": {
        "colab": {
          "base_uri": "https://localhost:8080/"
        },
        "id": "0JYJXDfHvyqC",
        "outputId": "a89ffdf3-5a07-4cb7-eee6-94148ae352c6"
      },
      "outputs": [
        {
          "name": "stdout",
          "output_type": "stream",
          "text": [
            "행렬 A + B:\n",
            " tensor([[ 6,  8],\n",
            "        [10, 12]])\n"
          ]
        }
      ],
      "source": [
        "# 행렬 연산\n",
        "import torch\n",
        "\n",
        "# 2x2 행렬(텐서) 생성\n",
        "A = torch.tensor([[1, 2], [3, 4]])\n",
        "B = torch.tensor([[5, 6], [7, 8]])\n",
        "\n",
        "# 행렬 덧셈\n",
        "C = A + B\n",
        "print(\"행렬 A + B:\\n\", C)\n"
      ]
    },
    {
      "cell_type": "markdown",
      "metadata": {
        "id": "e28mltqavvnf"
      },
      "source": [
        "gpu로 연산해보기"
      ]
    },
    {
      "cell_type": "code",
      "execution_count": 7,
      "metadata": {
        "colab": {
          "base_uri": "https://localhost:8080/"
        },
        "id": "vjbE_d3jU7Xp",
        "outputId": "fcb69666-2087-4bff-c3fa-f75958c5090a"
      },
      "outputs": [
        {
          "name": "stdout",
          "output_type": "stream",
          "text": [
            "CPU 연산 소요시간: 0.0049 초\n",
            "GPU 연산 소요시간: 0.1378 초\n"
          ]
        }
      ],
      "source": [
        "import time\n",
        "\n",
        "# 큰 크기의 Tensor 생성\n",
        "size = (100, 100)\n",
        "\n",
        "# CPU 연산\n",
        "tensor_cpu = torch.rand(size)\n",
        "start = time.time()\n",
        "result_cpu = tensor_cpu @ tensor_cpu  # 행렬 곱 연산\n",
        "end = time.time()\n",
        "print(f\"CPU 연산 소요시간: {end - start:.4f} 초\")\n",
        "\n",
        "# GPU 연산\n",
        "tensor_gpu = tensor_cpu.to(device)  # GPU로 이동\n",
        "start = time.time()\n",
        "result_gpu = tensor_gpu @ tensor_gpu  # GPU에서 행렬 곱 연산\n",
        "torch.cuda.synchronize()  # GPU 연산 동기화\n",
        "end = time.time()\n",
        "print(f\"GPU 연산 소요시간: {end - start:.4f} 초\")\n"
      ]
    }
  ],
  "metadata": {
    "accelerator": "GPU",
    "colab": {
      "gpuType": "T4",
      "provenance": []
    },
    "kernelspec": {
      "display_name": "Python 3",
      "name": "python3"
    },
    "language_info": {
      "name": "python"
    }
  },
  "nbformat": 4,
  "nbformat_minor": 0
}
